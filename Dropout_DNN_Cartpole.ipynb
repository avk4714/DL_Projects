{
  "nbformat": 4,
  "nbformat_minor": 0,
  "metadata": {
    "colab": {
      "name": "Dropout_DNN_Cartpole.ipynb",
      "provenance": [],
      "collapsed_sections": [],
      "authorship_tag": "ABX9TyOz5NuT490NAycoE3StTvuH",
      "include_colab_link": true
    },
    "kernelspec": {
      "name": "python3",
      "display_name": "Python 3"
    },
    "accelerator": "GPU"
  },
  "cells": [
    {
      "cell_type": "markdown",
      "metadata": {
        "id": "view-in-github",
        "colab_type": "text"
      },
      "source": [
        "<a href=\"https://colab.research.google.com/github/avk4714/DL_Projects/blob/master/Dropout_DNN_Cartpole.ipynb\" target=\"_parent\"><img src=\"https://colab.research.google.com/assets/colab-badge.svg\" alt=\"Open In Colab\"/></a>"
      ]
    },
    {
      "cell_type": "markdown",
      "metadata": {
        "id": "11xQNPiCaNUh",
        "colab_type": "text"
      },
      "source": [
        "**Implementation of the Dropout Method to determine Cartpole dynamics**"
      ]
    },
    {
      "cell_type": "code",
      "metadata": {
        "id": "_RzbM9HwaUQv",
        "colab_type": "code",
        "colab": {}
      },
      "source": [
        "import numpy as np\n",
        "import torch\n",
        "import torch.nn as nn\n",
        "import torch.nn.functional as F\n",
        "from torch.autograd import Variable\n",
        "from torch.distributions import Bernoulli\n",
        "import matplotlib.pyplot as plt\n",
        "import csv"
      ],
      "execution_count": 0,
      "outputs": []
    },
    {
      "cell_type": "code",
      "metadata": {
        "id": "USHfZAFTactk",
        "colab_type": "code",
        "colab": {}
      },
      "source": [
        "class Net(nn.Module):\n",
        "  def __init__(self, D_in1, n_hidden, D_out1, z_prob1, lam_mult1):\n",
        "    super(Net, self).__init__()\n",
        "    # Layers\n",
        "    self.model_L_1 = torch.nn.Linear(D_in1, n_hidden, bias=True)\n",
        "    self.model_D_1 = torch.nn.Dropout(p=0.5)\n",
        "    self.model_L_2 = torch.nn.Linear(n_hidden, n_hidden, bias=True)\n",
        "    self.model_D_2 = torch.nn.Dropout(p=0.5)\n",
        "    self.model_L_3 = torch.nn.Linear(n_hidden, n_hidden, bias=True)\n",
        "    self.model_D_3 = torch.nn.Dropout(p=0.5)\n",
        "    self.model_L_4 = torch.nn.Linear(n_hidden, D_out1, bias=True)\n",
        "\n",
        "  def forward(self, x):\n",
        "    pred_1 = F.relu(self.model_D_1(self.model_L_1(x)))\n",
        "    pred_2 = F.relu(self.model_D_2(self.model_L_2(pred_1)))\n",
        "    pred_3 = F.relu(self.model_D_3(self.model_L_3(pred_2)))\n",
        "    y_pred = self.model_L_4(pred_3)\n",
        "    return y_pred"
      ],
      "execution_count": 0,
      "outputs": []
    },
    {
      "cell_type": "code",
      "metadata": {
        "id": "ucrv1RFMaglC",
        "colab_type": "code",
        "colab": {}
      },
      "source": [
        "from numpy import genfromtxt\n",
        "\n",
        "train_x = genfromtxt('train_x_data_2.csv', delimiter=',')\n",
        "train_y = genfromtxt('train_y_data_2.csv', delimiter=',')\n",
        "train_x_tnsr = torch.from_numpy(train_x)\n",
        "train_y_tnsr = torch.from_numpy(train_y)"
      ],
      "execution_count": 0,
      "outputs": []
    },
    {
      "cell_type": "markdown",
      "metadata": {
        "id": "giDqRdLJcYgm",
        "colab_type": "text"
      },
      "source": [
        "**Calling DNN for Model Training**"
      ]
    },
    {
      "cell_type": "code",
      "metadata": {
        "id": "jD37xfB_cjfP",
        "colab_type": "code",
        "colab": {
          "base_uri": "https://localhost:8080/",
          "height": 513
        },
        "outputId": "071371fc-1bf3-4e3d-ed30-b813d91d8fce"
      },
      "source": [
        "'''Training Parameter Settings'''\n",
        "n_samples = 500\n",
        "n_hidden = 500\n",
        "z_prob = 0.5\n",
        "lam_mult = 1e-2\n",
        "d_in = 6            # Inputs are: [p, dp, dtheta, sin(theta), cos(theta), action]\n",
        "d_out = 4           # Outputs are: [ddtheta, ddp, dtheta, dp]\n",
        "runs = 10000\n",
        "\n",
        "'''PyTorch Model Invocation'''\n",
        "model = Net(d_in, n_hidden, d_out, z_prob, lam_mult)\n",
        "\n",
        "'''Loss function and Optimizer'''\n",
        "criterion = torch.nn.MSELoss(size_average=False)\n",
        "optimizer = torch.optim.Adam(model.parameters(),lr=0.001,weight_decay=lam_mult)\n",
        "\n",
        "'''Training runs'''\n",
        "loss_data = []\n",
        "for t in range(runs):\n",
        "  pred_y_tnsr = model(train_x_tnsr.float())\n",
        "  loss = criterion(pred_y_tnsr.float(), train_y_tnsr.float())\n",
        "  if t % 100 == 99:\n",
        "    loss_data.append([t, loss.item()])\n",
        "    print(t, loss.item())\n",
        "  \n",
        "  # zero gradients, perform a backward pass and update the weights\n",
        "  optimizer.zero_grad()\n",
        "  loss.backward()\n",
        "  optimizer.step()"
      ],
      "execution_count": 0,
      "outputs": [
        {
          "output_type": "stream",
          "text": [
            "/usr/local/lib/python3.6/dist-packages/torch/nn/_reduction.py:43: UserWarning: size_average and reduce args will be deprecated, please use reduction='sum' instead.\n",
            "  warnings.warn(warning.format(ret))\n"
          ],
          "name": "stderr"
        },
        {
          "output_type": "stream",
          "text": [
            "99 2023.550048828125\n",
            "199 1105.1629638671875\n",
            "299 835.788818359375\n",
            "399 674.0801391601562\n",
            "499 562.4903564453125\n",
            "599 498.0129089355469\n",
            "699 449.7741394042969\n",
            "799 427.79071044921875\n",
            "899 414.48699951171875\n",
            "999 380.3399353027344\n",
            "1099 343.0301208496094\n",
            "1199 325.7327575683594\n",
            "1299 322.26910400390625\n",
            "1399 312.6142883300781\n",
            "1499 301.4775085449219\n",
            "1599 289.80548095703125\n",
            "1699 279.21142578125\n",
            "1799 286.1510925292969\n",
            "1899 272.9510803222656\n",
            "1999 275.5283508300781\n",
            "2099 263.2027587890625\n",
            "2199 259.3119812011719\n",
            "2299 258.2286071777344\n",
            "2399 243.94532775878906\n",
            "2499 246.82382202148438\n",
            "2599 256.00445556640625\n"
          ],
          "name": "stdout"
        }
      ]
    },
    {
      "cell_type": "code",
      "metadata": {
        "id": "MCFSKgTCcMHj",
        "colab_type": "code",
        "colab": {
          "base_uri": "https://localhost:8080/",
          "height": 187
        },
        "outputId": "d3d03c5a-aa7d-495d-bbe2-b39b4a6a80ff"
      },
      "source": [
        "X = Variable(torch.randn(10, 6))\n",
        "X"
      ],
      "execution_count": 7,
      "outputs": [
        {
          "output_type": "execute_result",
          "data": {
            "text/plain": [
              "tensor([[ 0.3811, -1.8697,  0.7928, -0.8041, -0.2373, -0.8267],\n",
              "        [ 0.1787,  0.2206,  0.9807,  0.3767, -0.5994,  0.9951],\n",
              "        [-0.2172,  0.9065,  0.9084,  0.3914, -1.0015,  0.4489],\n",
              "        [-2.4166, -0.0954, -1.4217,  0.6954,  0.7475,  0.0976],\n",
              "        [-1.5799, -0.4525,  1.2509,  1.8448, -0.0173,  0.1357],\n",
              "        [ 1.1951, -0.3800,  1.8139,  0.5576,  1.0930, -0.5879],\n",
              "        [ 0.5069,  0.6907,  0.1328,  1.5611,  0.1822, -1.7584],\n",
              "        [ 1.8869, -0.2115, -0.4195,  1.8641, -0.9411,  0.1731],\n",
              "        [ 0.9840, -0.8503,  1.4222, -0.1173, -1.8323,  0.3421],\n",
              "        [ 1.6001, -0.3717,  1.1233,  1.1001,  0.1368,  1.0194]])"
            ]
          },
          "metadata": {
            "tags": []
          },
          "execution_count": 7
        }
      ]
    }
  ]
}