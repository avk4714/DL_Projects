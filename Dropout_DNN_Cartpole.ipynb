{
  "nbformat": 4,
  "nbformat_minor": 0,
  "metadata": {
    "colab": {
      "name": "Dropout_DNN_Cartpole.ipynb",
      "provenance": [],
      "collapsed_sections": [],
      "authorship_tag": "ABX9TyNq7nvBXam2zMxq1TfX080B",
      "include_colab_link": true
    },
    "kernelspec": {
      "name": "python3",
      "display_name": "Python 3"
    },
    "accelerator": "GPU"
  },
  "cells": [
    {
      "cell_type": "markdown",
      "metadata": {
        "id": "view-in-github",
        "colab_type": "text"
      },
      "source": [
        "<a href=\"https://colab.research.google.com/github/avk4714/DL_Projects/blob/master/Dropout_DNN_Cartpole.ipynb\" target=\"_parent\"><img src=\"https://colab.research.google.com/assets/colab-badge.svg\" alt=\"Open In Colab\"/></a>"
      ]
    },
    {
      "cell_type": "markdown",
      "metadata": {
        "id": "11xQNPiCaNUh",
        "colab_type": "text"
      },
      "source": [
        "**Implementation of the Dropout Method to determine Cartpole dynamics**"
      ]
    },
    {
      "cell_type": "code",
      "metadata": {
        "id": "_RzbM9HwaUQv",
        "colab_type": "code",
        "colab": {}
      },
      "source": [
        "import numpy as np\n",
        "import torch\n",
        "import torch.nn as nn\n",
        "import torch.nn.functional as F\n",
        "from torch.autograd import Variable\n",
        "from torch.distributions import Bernoulli\n",
        "import matplotlib.pyplot as plt\n",
        "import csv"
      ],
      "execution_count": 0,
      "outputs": []
    },
    {
      "cell_type": "code",
      "metadata": {
        "id": "Yzg2gzHv0MX4",
        "colab_type": "code",
        "colab": {
          "base_uri": "https://localhost:8080/",
          "height": 34
        },
        "outputId": "4c6836e2-44ae-4f0d-972d-10459600473f"
      },
      "source": [
        "if torch.cuda.is_available():\n",
        "    device = torch.device(\"cuda:0\")  # you can continue going on here, like cuda:1 cuda:2....etc. \n",
        "    print(\"Running on the GPU\")\n",
        "else:\n",
        "    device = torch.device(\"cpu\")\n",
        "    print(\"Running on the CPU\")"
      ],
      "execution_count": 2,
      "outputs": [
        {
          "output_type": "stream",
          "text": [
            "Running on the GPU\n"
          ],
          "name": "stdout"
        }
      ]
    },
    {
      "cell_type": "code",
      "metadata": {
        "id": "USHfZAFTactk",
        "colab_type": "code",
        "colab": {}
      },
      "source": [
        "class Net(nn.Module):\n",
        "  def __init__(self, D_in1, n_hidden, D_out1, z_prob1, lam_mult1):\n",
        "    super(Net, self).__init__()\n",
        "    # Layers\n",
        "    self.model_L_1 = torch.nn.Linear(D_in1, n_hidden, bias=True)\n",
        "    self.model_D_1 = torch.nn.Dropout(p=z_prob1)\n",
        "    self.model_L_2 = torch.nn.Linear(n_hidden, n_hidden, bias=True)\n",
        "    self.model_D_2 = torch.nn.Dropout(p=z_prob1)\n",
        "    self.model_L_3 = torch.nn.Linear(n_hidden, n_hidden, bias=True)\n",
        "    self.model_D_3 = torch.nn.Dropout(p=z_prob1)\n",
        "    self.model_L_4 = torch.nn.Linear(n_hidden, n_hidden, bias=True)\n",
        "    self.model_D_4 = torch.nn.Dropout(p=z_prob1)\n",
        "    self.model_L_5 = torch.nn.Linear(n_hidden, D_out1, bias=True)\n",
        "\n",
        "  def forward(self, x):\n",
        "    pred_1 = self.model_D_1(F.relu(self.model_L_1(x)))\n",
        "    pred_2 = self.model_D_2(F.relu(self.model_L_2(pred_1)))\n",
        "    pred_3 = self.model_D_3(F.relu(self.model_L_3(pred_2)))\n",
        "    pred_4 = self.model_D_4(F.relu(self.model_L_4(pred_3)))\n",
        "    y_pred = self.model_L_5(pred_4)\n",
        "    return y_pred"
      ],
      "execution_count": 0,
      "outputs": []
    },
    {
      "cell_type": "code",
      "metadata": {
        "id": "ucrv1RFMaglC",
        "colab_type": "code",
        "colab": {}
      },
      "source": [
        "from numpy import genfromtxt\n",
        "\n",
        "train_x = genfromtxt('train_x_data_2.csv', delimiter=',')\n",
        "train_y = genfromtxt('train_y_data_2.csv', delimiter=',')\n",
        "train_x_tnsr = torch.from_numpy(train_x)\n",
        "train_y_tnsr = torch.from_numpy(train_y)\n",
        "M = train_x_tnsr.shape[0]"
      ],
      "execution_count": 0,
      "outputs": []
    },
    {
      "cell_type": "markdown",
      "metadata": {
        "id": "giDqRdLJcYgm",
        "colab_type": "text"
      },
      "source": [
        "**Calling DNN for Model Training**"
      ]
    },
    {
      "cell_type": "code",
      "metadata": {
        "id": "jD37xfB_cjfP",
        "colab_type": "code",
        "outputId": "527da686-91bb-42e9-8152-70b5bf9aa888",
        "colab": {
          "base_uri": "https://localhost:8080/",
          "height": 1000
        }
      },
      "source": [
        "'''Training Parameter Settings'''\n",
        "n_samples = 500\n",
        "n_hidden = 1000\n",
        "z_prob = 0.2\n",
        "lam_mult = 1e-2\n",
        "d_in = 6            # Inputs are: [p, dp, dtheta, sin(theta), cos(theta), action]\n",
        "d_out = 4           # Outputs are: [ddtheta, ddp, dtheta, dp]\n",
        "runs = 20000\n",
        "\n",
        "'''PyTorch Model Invocation'''\n",
        "model = Net(d_in, n_hidden, d_out, z_prob, lam_mult).to(device)\n",
        "\n",
        "'''Loss function and Optimizer'''\n",
        "criterion = torch.nn.MSELoss(size_average=False)\n",
        "optimizer = torch.optim.Adam(model.parameters(),lr=0.0001,weight_decay=lam_mult)\n",
        "\n",
        "'''Creating additional set of input features to feed in'''\n",
        "# train_x_tnsr = torch.from_numpy(np.hstack((train_x_tnsr, train_x_tnsr[:,0].reshape(M,1)**2, train_x_tnsr[:,3].reshape(M,1)**2, train_x_tnsr[:,4].reshape(M,1)**2, train_x_tnsr[:,0].reshape(M,1)*train_x_tnsr[:,5].reshape(M,1), train_x_tnsr[:,1].reshape(M,1)*train_x_tnsr[:,5].reshape(M,1), train_x_tnsr[:,3].reshape(M,1)*train_x_tnsr[:,4].reshape(M,1))))\n",
        "train_x_tnsr = train_x_tnsr.to(device)\n",
        "train_y_tnsr = train_y_tnsr.to(device)\n",
        "'''Training runs'''\n",
        "loss_data = []\n",
        "for t in range(runs):\n",
        "  pred_y_tnsr = model(train_x_tnsr.float())\n",
        "  loss = criterion(pred_y_tnsr.float(), train_y_tnsr.float())\n",
        "  if t % 100 == 99:\n",
        "    loss_data.append([t, loss.item()])\n",
        "    print(t, loss.item())\n",
        "  \n",
        "  # zero gradients, perform a backward pass and update the weights\n",
        "  optimizer.zero_grad()\n",
        "  loss.backward()\n",
        "  optimizer.step()"
      ],
      "execution_count": 5,
      "outputs": [
        {
          "output_type": "stream",
          "text": [
            "/usr/local/lib/python3.6/dist-packages/torch/nn/_reduction.py:43: UserWarning: size_average and reduce args will be deprecated, please use reduction='sum' instead.\n",
            "  warnings.warn(warning.format(ret))\n"
          ],
          "name": "stderr"
        },
        {
          "output_type": "stream",
          "text": [
            "99 1479.97802734375\n",
            "199 794.2193603515625\n",
            "299 581.955322265625\n",
            "399 530.30078125\n",
            "499 426.48394775390625\n",
            "599 387.91046142578125\n",
            "699 352.41064453125\n",
            "799 332.06158447265625\n",
            "899 304.6856689453125\n",
            "999 286.0869140625\n",
            "1099 264.7396240234375\n",
            "1199 277.091796875\n",
            "1299 238.7506561279297\n",
            "1399 228.19500732421875\n",
            "1499 221.7922821044922\n",
            "1599 208.2611846923828\n",
            "1699 196.37359619140625\n",
            "1799 200.62222290039062\n",
            "1899 185.8295440673828\n",
            "1999 194.85760498046875\n",
            "2099 184.55380249023438\n",
            "2199 169.03550720214844\n",
            "2299 164.8105926513672\n",
            "2399 167.47088623046875\n",
            "2499 152.90689086914062\n",
            "2599 154.03399658203125\n",
            "2699 153.18167114257812\n",
            "2799 142.3856201171875\n",
            "2899 142.392578125\n",
            "2999 140.5718536376953\n",
            "3099 134.9086456298828\n",
            "3199 129.43214416503906\n",
            "3299 124.89431762695312\n",
            "3399 121.3045654296875\n",
            "3499 125.43624114990234\n",
            "3599 121.07705688476562\n",
            "3699 118.93045043945312\n",
            "3799 122.0743637084961\n",
            "3899 111.65147399902344\n",
            "3999 116.98271179199219\n",
            "4099 118.26451110839844\n",
            "4199 106.19258880615234\n",
            "4299 104.8907470703125\n",
            "4399 102.60177612304688\n",
            "4499 107.17303466796875\n",
            "4599 99.99626159667969\n",
            "4699 106.1104736328125\n",
            "4799 96.50840759277344\n",
            "4899 97.30128479003906\n",
            "4999 96.90946197509766\n",
            "5099 94.19514465332031\n",
            "5199 94.39583587646484\n",
            "5299 92.71861267089844\n",
            "5399 87.25042724609375\n",
            "5499 90.25738525390625\n",
            "5599 86.33271789550781\n",
            "5699 85.04286193847656\n",
            "5799 85.20155334472656\n",
            "5899 79.19955444335938\n",
            "5999 82.62255859375\n",
            "6099 80.27808380126953\n",
            "6199 76.65390014648438\n",
            "6299 75.6812973022461\n",
            "6399 75.18728637695312\n",
            "6499 75.69308471679688\n",
            "6599 73.57765197753906\n",
            "6699 72.0730972290039\n",
            "6799 76.013916015625\n",
            "6899 71.30585479736328\n",
            "6999 71.95159149169922\n",
            "7099 68.54081726074219\n",
            "7199 69.68678283691406\n",
            "7299 71.97855377197266\n",
            "7399 70.07927703857422\n",
            "7499 68.17137908935547\n",
            "7599 69.03531646728516\n",
            "7699 69.64512634277344\n",
            "7799 64.98713684082031\n",
            "7899 66.1612319946289\n",
            "7999 63.70079040527344\n",
            "8099 62.067718505859375\n",
            "8199 60.92396545410156\n",
            "8299 62.44155502319336\n",
            "8399 62.47642517089844\n",
            "8499 61.4634895324707\n",
            "8599 57.53450012207031\n",
            "8699 61.572914123535156\n",
            "8799 58.64099884033203\n",
            "8899 57.97225570678711\n",
            "8999 58.363182067871094\n",
            "9099 59.09062957763672\n",
            "9199 54.92216491699219\n",
            "9299 53.543033599853516\n",
            "9399 58.86408233642578\n",
            "9499 55.5312614440918\n",
            "9599 54.822750091552734\n",
            "9699 54.78655242919922\n",
            "9799 51.451236724853516\n",
            "9899 55.31658935546875\n",
            "9999 53.092098236083984\n",
            "10099 56.850624084472656\n",
            "10199 53.373313903808594\n",
            "10299 52.20634460449219\n",
            "10399 52.33776092529297\n",
            "10499 51.483551025390625\n",
            "10599 51.856239318847656\n",
            "10699 51.6656608581543\n",
            "10799 50.02002716064453\n",
            "10899 49.153709411621094\n",
            "10999 50.23860168457031\n",
            "11099 49.31247329711914\n",
            "11199 49.525779724121094\n",
            "11299 49.618228912353516\n",
            "11399 47.61499786376953\n",
            "11499 47.83766174316406\n",
            "11599 50.688148498535156\n",
            "11699 47.07074737548828\n",
            "11799 45.447052001953125\n",
            "11899 47.669830322265625\n",
            "11999 46.414119720458984\n",
            "12099 46.45732879638672\n",
            "12199 45.167030334472656\n",
            "12299 45.597957611083984\n",
            "12399 46.0243034362793\n",
            "12499 44.308753967285156\n",
            "12599 44.547752380371094\n",
            "12699 44.61136245727539\n",
            "12799 43.28778839111328\n",
            "12899 43.68144226074219\n",
            "12999 42.648529052734375\n",
            "13099 42.891815185546875\n",
            "13199 43.97056579589844\n",
            "13299 44.163551330566406\n",
            "13399 41.90333557128906\n",
            "13499 42.47148895263672\n",
            "13599 42.07811737060547\n",
            "13699 42.25676727294922\n",
            "13799 42.82087707519531\n",
            "13899 42.43798065185547\n",
            "13999 41.308990478515625\n",
            "14099 41.664405822753906\n",
            "14199 39.73334503173828\n",
            "14299 41.375892639160156\n",
            "14399 39.59505844116211\n",
            "14499 40.246360778808594\n",
            "14599 43.434226989746094\n",
            "14699 42.128814697265625\n",
            "14799 40.84381866455078\n",
            "14899 38.74156951904297\n",
            "14999 38.273136138916016\n",
            "15099 41.227317810058594\n",
            "15199 41.637611389160156\n",
            "15299 40.27732849121094\n",
            "15399 40.95944595336914\n",
            "15499 39.528480529785156\n",
            "15599 37.892677307128906\n",
            "15699 38.845237731933594\n",
            "15799 37.78070068359375\n",
            "15899 40.13298034667969\n",
            "15999 39.014652252197266\n",
            "16099 38.939659118652344\n",
            "16199 37.05381774902344\n",
            "16299 36.765411376953125\n",
            "16399 35.907386779785156\n",
            "16499 38.442481994628906\n",
            "16599 38.370262145996094\n",
            "16699 39.30628967285156\n",
            "16799 39.055240631103516\n",
            "16899 37.02293395996094\n",
            "16999 37.32209777832031\n",
            "17099 37.176475524902344\n",
            "17199 37.33253860473633\n",
            "17299 35.15909194946289\n",
            "17399 36.512611389160156\n",
            "17499 35.230594635009766\n",
            "17599 35.740501403808594\n",
            "17699 35.52681350708008\n",
            "17799 35.94668197631836\n",
            "17899 35.70680236816406\n",
            "17999 36.13538360595703\n",
            "18099 36.55038833618164\n",
            "18199 34.90869903564453\n",
            "18299 36.45368957519531\n",
            "18399 34.39222717285156\n",
            "18499 34.30765151977539\n",
            "18599 34.77246856689453\n",
            "18699 35.267822265625\n",
            "18799 35.80656433105469\n",
            "18899 35.09162139892578\n",
            "18999 35.5798454284668\n",
            "19099 35.448482513427734\n",
            "19199 34.899635314941406\n",
            "19299 33.16947937011719\n",
            "19399 35.312843322753906\n",
            "19499 35.170867919921875\n",
            "19599 34.50792694091797\n",
            "19699 34.075164794921875\n",
            "19799 33.677894592285156\n",
            "19899 34.099632263183594\n",
            "19999 33.23876190185547\n"
          ],
          "name": "stdout"
        }
      ]
    },
    {
      "cell_type": "code",
      "metadata": {
        "id": "MCFSKgTCcMHj",
        "colab_type": "code",
        "outputId": "1fccede4-14cc-4d06-e7e5-8a51b5d7f4f9",
        "colab": {
          "base_uri": "https://localhost:8080/",
          "height": 374
        }
      },
      "source": [
        "plt.figure(figsize=(10,6)) \n",
        "for t,l in loss_data:\n",
        "  plt.plot(t,l,\"b.\")\n",
        "plt.grid()\n",
        "plt.show()"
      ],
      "execution_count": 6,
      "outputs": [
        {
          "output_type": "display_data",
          "data": {
            "image/png": "[encoded data removed]",
            "text/plain": [
              "<Figure size 720x432 with 1 Axes>"
            ]
          },
          "metadata": {
            "tags": [],
            "needs_background": "light"
          }
        }
      ]
    },
    {
      "cell_type": "code",
      "metadata": {
        "id": "yso0DFx1ooXm",
        "colab_type": "code",
        "colab": {}
      },
      "source": [
        "with open ('train_loss_5.csv', mode='w') as loss_dat:\n",
        "  loss_write = csv.writer(loss_dat, delimiter=',', quotechar='\"', quoting=csv.QUOTE_MINIMAL)\n",
        "  for t1,l1 in loss_data:\n",
        "    loss_write.writerow([t1,l1])"
      ],
      "execution_count": 0,
      "outputs": []
    },
    {
      "cell_type": "code",
      "metadata": {
        "id": "Jeethi4nr3bs",
        "colab_type": "code",
        "colab": {}
      },
      "source": [
        "PATH = './cartploe_ReLU.pth'\n",
        "torch.save(model.state_dict(), PATH)"
      ],
      "execution_count": 0,
      "outputs": []
    }
  ]
}