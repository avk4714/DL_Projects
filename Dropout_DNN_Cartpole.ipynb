{
  "nbformat": 4,
  "nbformat_minor": 0,
  "metadata": {
    "colab": {
      "name": "Dropout_DNN_Cartpole.ipynb",
      "provenance": [],
      "collapsed_sections": [],
      "authorship_tag": "ABX9TyMWgTpiVQspTwVOELK+bkeV",
      "include_colab_link": true
    },
    "kernelspec": {
      "name": "python3",
      "display_name": "Python 3"
    },
    "accelerator": "GPU"
  },
  "cells": [
    {
      "cell_type": "markdown",
      "metadata": {
        "id": "view-in-github",
        "colab_type": "text"
      },
      "source": [
        "<a href=\"https://colab.research.google.com/github/avk4714/DL_Projects/blob/master/Dropout_DNN_Cartpole.ipynb\" target=\"_parent\"><img src=\"https://colab.research.google.com/assets/colab-badge.svg\" alt=\"Open In Colab\"/></a>"
      ]
    },
    {
      "cell_type": "markdown",
      "metadata": {
        "id": "11xQNPiCaNUh",
        "colab_type": "text"
      },
      "source": [
        "**Implementation of the Dropout Method to determine Cartpole dynamics**"
      ]
    },
    {
      "cell_type": "code",
      "metadata": {
        "id": "_RzbM9HwaUQv",
        "colab_type": "code",
        "colab": {}
      },
      "source": [
        "import numpy as np\n",
        "import torch\n",
        "import torch.nn as nn\n",
        "import torch.nn.functional as F\n",
        "from torch.autograd import Variable\n",
        "from torch.distributions import Bernoulli\n",
        "from torch.utils.data import Dataset, TensorDataset, DataLoader\n",
        "import matplotlib.pyplot as plt\n",
        "import csv"
      ],
      "execution_count": 0,
      "outputs": []
    },
    {
      "cell_type": "code",
      "metadata": {
        "id": "Yzg2gzHv0MX4",
        "colab_type": "code",
        "outputId": "bf743252-1e97-42a2-d6a3-bef936f137b6",
        "colab": {
          "base_uri": "https://localhost:8080/",
          "height": 34
        }
      },
      "source": [
        "if torch.cuda.is_available():\n",
        "    device = torch.device(\"cuda:0\")  # you can continue going on here, like cuda:1 cuda:2....etc. \n",
        "    print(\"Running on the GPU\")\n",
        "else:\n",
        "    device = torch.device(\"cpu\")\n",
        "    print(\"Running on the CPU\")"
      ],
      "execution_count": 4,
      "outputs": [
        {
          "output_type": "stream",
          "text": [
            "Running on the GPU\n"
          ],
          "name": "stdout"
        }
      ]
    },
    {
      "cell_type": "code",
      "metadata": {
        "id": "USHfZAFTactk",
        "colab_type": "code",
        "colab": {}
      },
      "source": [
        "class Net(nn.Module):\n",
        "  def __init__(self, D_in1, n_hidden, D_out1, z_prob1, lam_mult1):\n",
        "    super(Net, self).__init__()\n",
        "    # Layers\n",
        "    self.model_L_1 = torch.nn.Linear(D_in1, n_hidden, bias=True)\n",
        "    self.model_D_1 = torch.nn.Dropout(p=z_prob1)\n",
        "    self.model_L_2 = torch.nn.Linear(n_hidden, n_hidden, bias=True)\n",
        "    self.model_D_2 = torch.nn.Dropout(p=z_prob1)\n",
        "    self.model_L_3 = torch.nn.Linear(n_hidden, n_hidden, bias=True)\n",
        "    self.model_D_3 = torch.nn.Dropout(p=z_prob1)\n",
        "    self.model_L_4 = torch.nn.Linear(n_hidden, n_hidden, bias=True)\n",
        "    self.model_D_4 = torch.nn.Dropout(p=z_prob1)\n",
        "    self.model_L_5 = torch.nn.Linear(n_hidden, D_out1, bias=True)\n",
        "\n",
        "  def forward(self, x):\n",
        "    pred_1 = self.model_D_1(F.relu(self.model_L_1(x)))\n",
        "    pred_2 = self.model_D_2(F.relu(self.model_L_2(pred_1)))\n",
        "    pred_3 = self.model_D_3(F.relu(self.model_L_3(pred_2)))\n",
        "    pred_4 = self.model_D_4(F.relu(self.model_L_4(pred_3)))\n",
        "    y_pred = self.model_L_5(pred_4)\n",
        "    return y_pred"
      ],
      "execution_count": 0,
      "outputs": []
    },
    {
      "cell_type": "code",
      "metadata": {
        "id": "ucrv1RFMaglC",
        "colab_type": "code",
        "colab": {}
      },
      "source": [
        "from numpy import genfromtxt\n",
        "\n",
        "train_x = genfromtxt('train_x_data_2.csv', delimiter=',')\n",
        "train_y = genfromtxt('train_y_data_2.csv', delimiter=',')\n",
        "train_x_tnsr = torch.from_numpy(train_x).float()\n",
        "train_y_tnsr = torch.from_numpy(train_y).float()\n",
        "M = train_x_tnsr.shape[0]\n",
        "train_data = TensorDataset(train_x_tnsr, train_y_tnsr)"
      ],
      "execution_count": 0,
      "outputs": []
    },
    {
      "cell_type": "code",
      "metadata": {
        "id": "kzDaBpxfGsEC",
        "colab_type": "code",
        "colab": {}
      },
      "source": [
        "def make_train_step(model, loss_fn, optimizer):\n",
        "    # Builds function that performs a step in the train loop\n",
        "    def train_step(x, y):\n",
        "        # Sets model to TRAIN mode\n",
        "        model.train()\n",
        "        # Makes predictions\n",
        "        yhat = model(x)\n",
        "        # Computes loss\n",
        "        loss = loss_fn(y, yhat)\n",
        "        # Computes gradients\n",
        "        loss.backward()\n",
        "        # Updates parameters and zeroes gradients\n",
        "        optimizer.step()\n",
        "        optimizer.zero_grad()\n",
        "        # Returns the loss\n",
        "        return loss.item()\n",
        "    \n",
        "    # Returns the function that will be called inside the train loop\n",
        "    return train_step\n"
      ],
      "execution_count": 0,
      "outputs": []
    },
    {
      "cell_type": "markdown",
      "metadata": {
        "id": "giDqRdLJcYgm",
        "colab_type": "text"
      },
      "source": [
        "**Calling DNN for Model Training**"
      ]
    },
    {
      "cell_type": "code",
      "metadata": {
        "id": "jD37xfB_cjfP",
        "colab_type": "code",
        "outputId": "4a9439da-0d45-42b1-d738-a9b24d05a4f0",
        "colab": {
          "base_uri": "https://localhost:8080/",
          "height": 221
        }
      },
      "source": [
        "'''Training Parameter Settings'''\n",
        "n_samples = 500\n",
        "n_hidden = 1000\n",
        "z_prob = 0.2\n",
        "lam_mult = 1e-2\n",
        "d_in = 6            # Inputs are: [p, dp, dtheta, sin(theta), cos(theta), action]\n",
        "d_out = 4           # Outputs are: [ddtheta, ddp, dtheta, dp]\n",
        "n_epochs = 1000\n",
        "batch_size = 50\n",
        "\n",
        "'''Load data as mini-batches'''\n",
        "train_loader = DataLoader(dataset=train_data, batch_size=batch_size, shuffle=True)\n",
        "\n",
        "'''PyTorch Model Invocation'''\n",
        "model = Net(d_in, n_hidden, d_out, z_prob, lam_mult).to(device)\n",
        "\n",
        "'''Loss function and Optimizer'''\n",
        "criterion = torch.nn.MSELoss(size_average=False)\n",
        "optimizer = torch.optim.Adam(model.parameters(),lr=0.0001,weight_decay=lam_mult)\n",
        "\n",
        "'''Train Data'''\n",
        "losses = []\n",
        "train_step = make_train_step(model, criterion, optimizer)\n",
        "\n",
        "for epoch in range(n_epochs):\n",
        "  for x_batch, y_batch in train_loader:\n",
        "    x_batch = x_batch.to(device)\n",
        "    y_batch = y_batch.to(device)\n",
        "    loss = train_step(x_batch, y_batch)\n",
        "    losses.append(loss)\n",
        "  \n",
        "  if (epoch % 100) == 0:\n",
        "    print('Epoch: %d -> Loss: %.5f' % (epoch, loss))\n",
        "        \n",
        "# print(model.state_dict())\n",
        "\n",
        "# '''Creating additional set of input features to feed in'''\n",
        "# train_x_tnsr = train_x_tnsr.to(device)\n",
        "# train_y_tnsr = train_y_tnsr.to(device)\n",
        "# '''Training runs'''\n",
        "# loss_data = []\n",
        "# for t in range(runs):\n",
        "#   pred_y_tnsr = model(train_x_tnsr.float())\n",
        "#   loss = criterion(pred_y_tnsr.float(), train_y_tnsr.float())\n",
        "#   if t % 100 == 99:\n",
        "#     loss_data.append([t, loss.item()])\n",
        "#     print(t, loss.item())\n",
        "  \n",
        "#   # zero gradients, perform a backward pass and update the weights\n",
        "#   optimizer.zero_grad()\n",
        "#   loss.backward()\n",
        "#   optimizer.step()"
      ],
      "execution_count": 8,
      "outputs": [
        {
          "output_type": "stream",
          "text": [
            "/usr/local/lib/python3.6/dist-packages/torch/nn/_reduction.py:43: UserWarning: size_average and reduce args will be deprecated, please use reduction='sum' instead.\n",
            "  warnings.warn(warning.format(ret))\n"
          ],
          "name": "stderr"
        },
        {
          "output_type": "stream",
          "text": [
            "Epoch: 0 -> Loss: 47.22480\n",
            "Epoch: 100 -> Loss: 3.19791\n",
            "Epoch: 200 -> Loss: 1.27465\n",
            "Epoch: 300 -> Loss: 1.73750\n",
            "Epoch: 400 -> Loss: 1.03887\n",
            "Epoch: 500 -> Loss: 0.71927\n",
            "Epoch: 600 -> Loss: 0.92215\n",
            "Epoch: 700 -> Loss: 0.59660\n",
            "Epoch: 800 -> Loss: 1.03195\n",
            "Epoch: 900 -> Loss: 0.95494\n"
          ],
          "name": "stdout"
        }
      ]
    },
    {
      "cell_type": "code",
      "metadata": {
        "id": "78wvo6xDLhRS",
        "colab_type": "code",
        "colab": {}
      },
      "source": [
        "losses = np.array(losses)\n",
        "l_M = losses.shape[0]\n",
        "epochvec = np.linspace(0,l_M-1,num=l_M)"
      ],
      "execution_count": 0,
      "outputs": []
    },
    {
      "cell_type": "code",
      "metadata": {
        "id": "MCFSKgTCcMHj",
        "colab_type": "code",
        "outputId": "680181d8-aa6a-4bb6-a7d7-f0c2203cd718",
        "colab": {
          "base_uri": "https://localhost:8080/",
          "height": 374
        }
      },
      "source": [
        "plt.figure(figsize=(10,6)) \n",
        "plt.plot(epochvec,losses,\"b.\")\n",
        "plt.grid()\n",
        "plt.show()"
      ],
      "execution_count": 30,
      "outputs": [
        {
          "output_type": "display_data",
          "data": {
            "image/png": "[encoded data removed]",
            "text/plain": [
              "<Figure size 720x432 with 1 Axes>"
            ]
          },
          "metadata": {
            "tags": [],
            "needs_background": "light"
          }
        }
      ]
    },
    {
      "cell_type": "code",
      "metadata": {
        "id": "yso0DFx1ooXm",
        "colab_type": "code",
        "colab": {}
      },
      "source": [
        "with open ('train_loss_6.csv', mode='w') as loss_dat:\n",
        "  loss_write = csv.writer(loss_dat, delimiter=',', quotechar='\"', quoting=csv.QUOTE_MINIMAL)\n",
        "  for loss_val in losses:\n",
        "    loss_write.writerow([loss_val])"
      ],
      "execution_count": 0,
      "outputs": []
    },
    {
      "cell_type": "code",
      "metadata": {
        "id": "Jeethi4nr3bs",
        "colab_type": "code",
        "colab": {}
      },
      "source": [
        "PATH = './cartpole_ReLU_2.pth'\n",
        "torch.save(model.state_dict(), PATH)"
      ],
      "execution_count": 0,
      "outputs": []
    }
  ]
}