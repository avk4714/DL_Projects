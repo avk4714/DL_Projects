{
  "nbformat": 4,
  "nbformat_minor": 0,
  "metadata": {
    "kernelspec": {
      "display_name": "Python 3",
      "language": "python",
      "name": "python3"
    },
    "language_info": {
      "codemirror_mode": {
        "name": "ipython",
        "version": 3
      },
      "file_extension": ".py",
      "mimetype": "text/x-python",
      "name": "python",
      "nbconvert_exporter": "python",
      "pygments_lexer": "ipython3",
      "version": "3.6.8"
    },
    "colab": {
      "name": "Copy of Deep Ensembles.ipynb",
      "provenance": [],
      "include_colab_link": true
    }
  },
  "cells": [
    {
      "cell_type": "markdown",
      "metadata": {
        "id": "view-in-github",
        "colab_type": "text"
      },
      "source": [
        "<a href=\"https://colab.research.google.com/github/avk4714/DL_Projects/blob/master/Deep_Ensembles_2.ipynb\" target=\"_parent\"><img src=\"https://colab.research.google.com/assets/colab-badge.svg\" alt=\"Open In Colab\"/></a>"
      ]
    },
    {
      "cell_type": "markdown",
      "metadata": {
        "id": "hXYDp26RXzyF",
        "colab_type": "text"
      },
      "source": [
        "# Deep Ensembles\n"
      ]
    },
    {
      "cell_type": "markdown",
      "metadata": {
        "id": "ekxlkhiaXzyG",
        "colab_type": "text"
      },
      "source": [
        "## B. Lakshminarayanan, A. Pritzel, C. Blundell - Simple and Scalable Predictive Uncertainty Estimation using Deep Ensembles"
      ]
    },
    {
      "cell_type": "markdown",
      "metadata": {
        "id": "QwPmFQOQXzyH",
        "colab_type": "text"
      },
      "source": [
        "https://papers.nips.cc/paper/7219-simple-and-scalable-predictive-uncertainty-estimation-using-deep-ensembles.pdfLink: "
      ]
    },
    {
      "cell_type": "markdown",
      "metadata": {
        "id": "x4YQomWYXzyI",
        "colab_type": "text"
      },
      "source": [
        "### Abstract\n",
        "Deep neural networks (NNs) are powerful black box predictors that have recently achieved impressive performance on a wide spectrum of tasks. Quantifying predictive uncertainty in NNs is a challenging and yet unsolved problem. Bayesian NNs, which learn a distribution over weights, are currently the state-of-the-art for estimating predictive uncertainty; however these require significant modifications to the training procedure and are computationally expensive compared to standard (non-Bayesian) NNs. We propose an alternative to Bayesian NNs that is simple to implement, readily parallelizable, requires very little hyperparameter tuning, and yields high quality predictive uncertainty estimates. Through a series of experiments on classification and regression benchmarks, we demonstrate that our method produces well-calibrated uncertainty estimates which are as good or better than approximate Bayesian NNs. To assess robustness to dataset shift, we evaluate the predictive uncertainty on test examples from known and unknown distributions, and show that our method is able to express higher uncertainty on out-of-distribution examples. We demonstrate the scalability of our method by evaluating predictive uncertainty estimates on ImageNet."
      ]
    },
    {
      "cell_type": "markdown",
      "metadata": {
        "id": "5Av7QhctXzyJ",
        "colab_type": "text"
      },
      "source": [
        "Quantifying predictive uncertainty in neural networks is a challenging (unsolved) problem. Bayesian neural networks have a distribution over weights and are hard to train. Standard neural networks tend to be overconfident."
      ]
    },
    {
      "cell_type": "markdown",
      "metadata": {
        "id": "fxgRWhpeXzyK",
        "colab_type": "text"
      },
      "source": [
        "Data set $\\mathcal{D} = \\{\\mathbf{x}_n,y_n\\}_{n=1}^N$, where $\\mathbf{x}\\in \\mathbb{R}^D$ is the feature vector."
      ]
    },
    {
      "cell_type": "markdown",
      "metadata": {
        "id": "GnKiFow3XzyM",
        "colab_type": "text"
      },
      "source": [
        "The goal is to model a distribution $q(y|\\mathbf{x})$ using the model $p_{\\theta}(y|\\mathbf{x})$, where $\\theta$ are the parameters of the model."
      ]
    },
    {
      "cell_type": "markdown",
      "metadata": {
        "id": "I3bXU2J2XzyN",
        "colab_type": "text"
      },
      "source": [
        "Instead of using just one model, an ensemble of $M$ models is used to form a mixture model with the parameter set $\\{\\theta_m\\}_{m=1}^M$. \n",
        "\n",
        "\\begin{equation}\n",
        "p(y|\\mathbf{x})= \\frac{1}{M}\\sum_{m=1}^Mp_{\\theta_m}(y|\\mathbf{x})\n",
        "\\end{equation}"
      ]
    },
    {
      "cell_type": "markdown",
      "metadata": {
        "id": "Saq2MuczXzyP",
        "colab_type": "text"
      },
      "source": [
        "### Scoring rule\n",
        "\n",
        "To train the model, a measure for the quality of predictive uncertainty is needed. This measure is called a scoring rule $S$, where higher is better:\n",
        "\n",
        "\\begin{equation}\n",
        "S: p_{\\theta},(\\mathbf{x},y) \\mapsto \\mathbb{R}\n",
        "\\end{equation}\n",
        "\n",
        "It evaluates the quality relative to an event $y|\\mathbf{x} \\sim q(y|\\mathbf{x})$."
      ]
    },
    {
      "cell_type": "markdown",
      "metadata": {
        "id": "zWBi1EqCXzyP",
        "colab_type": "text"
      },
      "source": [
        "### Expected scoring rule\n",
        "\n",
        "The expected scoring rule \n",
        "\\begin{align}\n",
        "\\mathbb{E}_{q(y|\\mathbf{x})}\\{S(p_{\\theta},(\\mathbf{x},y))\\} =\\int q(y|\\mathbf{x})S(p_{\\theta},(\\mathbf{x},y)\\mathrm{d}y\\mathrm{d}\\mathbf{x}= S_E(q,p_\\theta)\n",
        "\\end{align}\n",
        "\n",
        "An expected scoring rule $S_E$ is proper if $S_E(q,p_\\theta) \\leq S_E(q,q)$.\n",
        "\n",
        "A loss function $L$ is defined as:\n",
        "\\begin{equation}\n",
        "L(\\theta) = -S_E(q,p_\\theta)\n",
        "\\end{equation}\n",
        "\n",
        "Question: Is the log-likelihood $\\log p_\\theta(y|\\mathbf{x})$ a proper scoring rule?\n",
        "\n",
        "We need to prove $S_E(q,p_\\theta) \\leq S_E(q,q)$.\n",
        "\n",
        "\\begin{align}\n",
        "\\int q(y|\\mathbf{x})S(p_{\\theta},(\\mathbf{x},y))\\mathrm{d}y\\mathrm{d}\\mathbf{x}&=\\int q(y|\\mathbf{x})\\log p_\\theta(y|\\mathbf{x})\\mathrm{d}y\\mathrm{d}\\mathbf{x} \\\\\n",
        "& = \\mathbb{E}_q\\{\\log p_\\theta\\} \\leq \\mathbb{E}_q\\{\\log q\\}, \\mathrm{q.e.d}.\n",
        "\\end{align}\n",
        "\n",
        "The prove uses Gibb's inequality: https://en.wikipedia.org/wiki/Gibbs%27_inequality\n",
        "\n",
        "A negative log-likelihood (NLL) is used as the loss function for regression:\n",
        "\n",
        "\\begin{equation}\n",
        "L(\\theta)= -log p_\\theta(y|\\mathbf{x})\n",
        "\\end{equation}"
      ]
    },
    {
      "cell_type": "markdown",
      "metadata": {
        "id": "5vVLcEZzXzyQ",
        "colab_type": "text"
      },
      "source": [
        "### Gaussian Approximation\n",
        "\n",
        "To model the true distribution $q$, the model $p$ is assumed to be gaussian. This way, it can be defined by mean and variance functions:\n",
        "\n",
        "\\begin{equation}\n",
        "p(y|\\mathbf{x}) \\approx \\mathcal{N}(\\mu(\\mathbf{x}),\\sigma^2(\\mathbf{x}))=\\frac{1}{\\sqrt{2\\pi\\sigma^2(\\mathbf{x})}}\\exp\\left(-\\frac{(y-\\mu(\\mathbf{x}))^2}{2\\sigma^2(\\mathbf{x})}\\right)\n",
        "\\end{equation}\n",
        "\n",
        "The ensemble model is a gaussian mixture model:\n",
        "\n",
        "\\begin{equation}\n",
        "\\mathcal{N}(\\mu(\\mathbf{x}),\\sigma^2(\\mathbf{x}))=\\frac{1}{M}\\sum_{m=1}^M\\mathcal{N}(\\mu_m(\\mathbf{x}),\\sigma_m^2(\\mathbf{x}))\n",
        "\\end{equation}\n",
        "\n",
        "The individual model is a feed-forward neural network which has two outputs $\\mu_m(\\mathbf{x})$ and $\\sigma_m(\\mathbf{x})$.\n",
        "\n",
        "The mean and variance functions of $p$ are defined as:\n",
        "\\begin{align}\n",
        "\\mu(\\mathbf{x}) &= \\frac{1}{M}\\sum_{m=1}^M \\mu_m(\\mathbf{x}), \\\\\n",
        "\\sigma^2(\\mathbf{x}) &= \\frac{1}{M}\\sum_{m=1}^M \\left(\\sigma_m^2(\\mathbf{x}) + \\mu_m^2(\\mathbf{x})\\right)- \\mu^2(\\mathbf{x}).\n",
        "\\end{align}\n",
        "As shown in https://stats.stackexchange.com/questions/16608/what-is-the-variance-of-the-weighted-mixture-of-two-gaussians\n",
        "\n",
        "With the assumption of a gaussian approximation, the NLL can be derived:\n",
        "\n",
        "\\begin{align}\n",
        "L(\\theta)=-\\log p_\\theta(y|\\mathbf{x})&=-\\log\\left(\\frac{1}{\\sqrt{2\\pi\\sigma_m^2(\\mathbf{x})}}\\exp\\left(-\\frac{(y-\\mu_m(\\mathbf{x}))^2}{2\\sigma_m^2(\\mathbf{x})}\\right)\\right) \\\\\n",
        "&= \\log\\left(\\sqrt{2\\pi\\sigma_m^2(\\mathbf{x})}\\right) + \\frac{(y-\\mu_m(\\mathbf{x}))^2}{2\\sigma_m^2(\\mathbf{x})}\\\\\n",
        "&= \\frac{1}{2}\\log\\left(2\\pi\\sigma_m^2(\\mathbf{x})\\right) + \\frac{(y-\\mu_m(\\mathbf{x}))^2}{2\\sigma_m^2(\\mathbf{x})}\\\\\n",
        " &=\\frac{1}{2}\\log\\left(\\sigma_m^2(\\mathbf{x})\\right) + \\frac{(y-\\mu_m(\\mathbf{x}))^2}{2\\sigma_m^2(\\mathbf{x})} + \\underbrace{\\frac{1}{2}\\log\\left(2\\pi\\right)}_{\\mathrm{=const.}}\n",
        "\\end{align}"
      ]
    },
    {
      "cell_type": "markdown",
      "metadata": {
        "id": "T6a4x2OvXzyR",
        "colab_type": "text"
      },
      "source": [
        "### Coding examples"
      ]
    },
    {
      "cell_type": "code",
      "metadata": {
        "id": "y3vV3_ZcXzyS",
        "colab_type": "code",
        "colab": {}
      },
      "source": [
        "import torch\n",
        "import torch.nn as nn\n",
        "import numpy as np\n",
        "import torch.nn.functional as F\n",
        "import matplotlib.pyplot as plt\n",
        "#plt.rc('font', size=12)"
      ],
      "execution_count": 0,
      "outputs": []
    },
    {
      "cell_type": "code",
      "metadata": {
        "id": "frAh9PcxXzyW",
        "colab_type": "code",
        "colab": {}
      },
      "source": [
        "class MLP(nn.Module):\n",
        "    \"\"\" Multilayer perceptron (MLP) with relu activation function implemented in PyTorch for regression tasks.\n",
        "\n",
        "    Attributes:\n",
        "        inputs (int): inputs of the network\n",
        "        outputs (int): outputs of the network\n",
        "        hidden_layers (list): layer structure of MLP: [5, 5] (2 hidden layer with 5 neurons)\n",
        "    \"\"\"\n",
        "\n",
        "    def __init__(self, inputs=1, outputs=1, hidden_layers=[100]):\n",
        "        super(MLP, self).__init__()\n",
        "        self.inputs = inputs\n",
        "        self.outputs = outputs\n",
        "        self.hidden_layers = hidden_layers\n",
        "        self.nLayers = len(hidden_layers)\n",
        "        self.net_structure = [inputs, *hidden_layers, outputs]\n",
        "        \n",
        "        self.act = torch.relu\n",
        "        # create linear layers y = Wx + b\n",
        "\n",
        "        for i in range(self.nLayers + 1):\n",
        "            setattr(self, 'layer_'+str(i), nn.Linear(self.net_structure[i], self.net_structure[i+1]))\n",
        "\n",
        "    def forward(self, x):\n",
        "        # connect layers\n",
        "        for i in range(self.nLayers):\n",
        "            layer = getattr(self, 'layer_'+str(i))\n",
        "            x = self.act(layer(x))\n",
        "        layer = getattr(self, 'layer_' + str(self.nLayers))\n",
        "        x = layer(x)\n",
        "        return x"
      ],
      "execution_count": 0,
      "outputs": []
    },
    {
      "cell_type": "code",
      "metadata": {
        "id": "EnpNXVlrXzyY",
        "colab_type": "code",
        "colab": {}
      },
      "source": [
        "class GaussianMLP(MLP):\n",
        "    \"\"\" Gaussian MLP which outputs are mean and variance.\n",
        "\n",
        "    Attributes:\n",
        "        inputs (int): number of inputs\n",
        "        outputs (int): number of outputs\n",
        "        hidden_layers (list of ints): hidden layer sizes\n",
        "\n",
        "    \"\"\"\n",
        "\n",
        "    def __init__(self, inputs=1, outputs=1, hidden_layers=[100]):\n",
        "        super(GaussianMLP, self).__init__(inputs=inputs, outputs=2*outputs, hidden_layers=hidden_layers)\n",
        "        self.inputs = inputs\n",
        "        self.outputs = outputs\n",
        "    def forward(self, x):\n",
        "        # connect layers\n",
        "        for i in range(self.nLayers):\n",
        "            layer = getattr(self, 'layer_'+str(i))\n",
        "            x = self.act(layer(x))\n",
        "        layer = getattr(self, 'layer_' + str(self.nLayers))\n",
        "        x = layer(x)\n",
        "        mean, variance = torch.split(x, self.outputs, dim=1)\n",
        "        variance = F.softplus(variance) + 1e-6\n",
        "        return mean, variance"
      ],
      "execution_count": 0,
      "outputs": []
    },
    {
      "cell_type": "code",
      "metadata": {
        "id": "X5xjfqMCXzyb",
        "colab_type": "code",
        "colab": {}
      },
      "source": [
        "class GaussianMixtureMLP(nn.Module):\n",
        "    \"\"\" Gaussian mixture MLP which outputs are mean and variance.\n",
        "\n",
        "    Attributes:\n",
        "        models (int): number of models\n",
        "        inputs (int): number of inputs\n",
        "        outputs (int): number of outputs\n",
        "        hidden_layers (list of ints): hidden layer sizes\n",
        "\n",
        "    \"\"\"\n",
        "    def __init__(self, num_models=5, inputs=1, outputs=1, hidden_layers=[100]):\n",
        "        super(GaussianMixtureMLP, self).__init__()\n",
        "        self.num_models = num_models\n",
        "        self.inputs = inputs\n",
        "        self.outputs = outputs\n",
        "        self.hidden_layers = hidden_layers\n",
        "        \n",
        "        for i in range(self.num_models):\n",
        "            model = GaussianMLP(inputs=self.inputs, \n",
        "                                outputs=self.outputs, \n",
        "                                hidden_layers=self.hidden_layers)\n",
        "            setattr(self, 'model_'+str(i), model)\n",
        "            \n",
        "    def forward(self, x):\n",
        "        # connect layers\n",
        "        means = []\n",
        "        variances = []\n",
        "        for i in range(self.num_models):\n",
        "            model = getattr(self, 'model_' + str(i))\n",
        "            mean, var = model(x)\n",
        "            means.append(mean)\n",
        "            variances.append(var)\n",
        "        means = torch.stack(means)\n",
        "        mean = means.mean(dim=0)\n",
        "        variances = torch.stack(variances)\n",
        "        variance = (variances + means.pow(2)).mean(dim=0) - mean.pow(2)\n",
        "        return mean, variance"
      ],
      "execution_count": 0,
      "outputs": []
    },
    {
      "cell_type": "code",
      "metadata": {
        "id": "aNAqQs5OXzyd",
        "colab_type": "code",
        "colab": {}
      },
      "source": [
        "def NLLloss(y, mean, var):\n",
        "    \"\"\" Negative log-likelihood loss function. \"\"\"\n",
        "    return (torch.log(var) + ((y - mean).pow(2))/var).sum()    "
      ],
      "execution_count": 0,
      "outputs": []
    },
    {
      "cell_type": "markdown",
      "metadata": {
        "id": "PCs1etirXzyf",
        "colab_type": "text"
      },
      "source": [
        "## Toy regression example, reproduction of the results in the paper\n",
        "\n",
        "We consider the function $y = x^3$ as the ground truth.\n",
        "\n",
        "The data is generated by sampling from $y = x^3+\\epsilon$, where $\\epsilon \\sim \\mathcal{N}(0,3^2)$."
      ]
    },
    {
      "cell_type": "markdown",
      "metadata": {
        "id": "BvELU5ISXzyf",
        "colab_type": "text"
      },
      "source": [
        "Used neural network architecture: 1 layer, 100 hidden units, ReLU activation\n",
        "\n",
        "Reference [24]: https://arxiv.org/pdf/1502.05336.pdf"
      ]
    },
    {
      "cell_type": "markdown",
      "metadata": {
        "id": "WiabX8O8Xzyf",
        "colab_type": "text"
      },
      "source": [
        "import matplotlib.pyplot as plt"
      ]
    },
    {
      "cell_type": "code",
      "metadata": {
        "id": "J8ajW0uFXzyg",
        "colab_type": "code",
        "colab": {}
      },
      "source": [
        "def data_set(points=20, xrange=(-4, 4), std=3.):\n",
        "    xx = torch.tensor([[np.random.uniform(*xrange)] for i in range(points)])\n",
        "    yy = torch.tensor([[x**3 + np.random.normal(0, std)] for x in xx])\n",
        "    return xx, yy"
      ],
      "execution_count": 0,
      "outputs": []
    },
    {
      "cell_type": "markdown",
      "metadata": {
        "id": "h3UTlhWOXzyh",
        "colab_type": "text"
      },
      "source": [
        "## Comparison of standard MLP, Gaussian MLP and Gaussian Mixture MLP"
      ]
    },
    {
      "cell_type": "markdown",
      "metadata": {
        "id": "B03VCTVtXzyi",
        "colab_type": "text"
      },
      "source": [
        "#### Training\n",
        "\n",
        "Parameters from the paper:\n",
        "\n",
        "Batch size = 100 (only 20 samples?)\n",
        "\n",
        "Epochs = 40\n",
        "\n",
        "Optimizer: Adam with step size 0.1\n",
        "\n",
        "Instead of training for 40 epochs on a batch size of 100, we train on 200 epochs on a batch size of 20 (whole data set)."
      ]
    },
    {
      "cell_type": "code",
      "metadata": {
        "id": "3FKwJyleXzyi",
        "colab_type": "code",
        "colab": {}
      },
      "source": [
        "epochs = 200\n",
        "learning_rate = 0.1"
      ],
      "execution_count": 0,
      "outputs": []
    },
    {
      "cell_type": "markdown",
      "metadata": {
        "id": "fcJbHRF4Xzyj",
        "colab_type": "text"
      },
      "source": [
        "### Data set generation"
      ]
    },
    {
      "cell_type": "code",
      "metadata": {
        "id": "Lkj6LeLoXzyk",
        "colab_type": "code",
        "outputId": "7a8ad80d-febf-4ca1-8b40-a90562cff9f0",
        "colab": {
          "base_uri": "https://localhost:8080/",
          "height": 296
        }
      },
      "source": [
        "xx, yy = data_set(points=20, xrange=(-4, 4), std=3.) # generate data set of 20 samples\n",
        "x = np.linspace(-6, 6, 100).reshape(100, 1)\n",
        "y = x**3\n",
        "plt.plot(x, y, 'b-', label='ground truth: $y=x^3$')\n",
        "plt.plot(xx.numpy(),yy.numpy(),'or', label='data points')\n",
        "plt.grid()\n",
        "plt.xlabel('x')\n",
        "plt.ylabel('y')\n",
        "plt.legend()"
      ],
      "execution_count": 0,
      "outputs": [
        {
          "output_type": "execute_result",
          "data": {
            "text/plain": [
              "<matplotlib.legend.Legend at 0x7f696bfd3978>"
            ]
          },
          "metadata": {
            "tags": []
          },
          "execution_count": 31
        },
        {
          "output_type": "display_data",
          "data": {
            "image/png": "[encoded data removed]",
            "text/plain": [
              "<Figure size 432x288 with 1 Axes>"
            ]
          },
          "metadata": {
            "tags": [],
            "needs_background": "light"
          }
        }
      ]
    },
    {
      "cell_type": "markdown",
      "metadata": {
        "id": "6DpRLaIMXzym",
        "colab_type": "text"
      },
      "source": [
        "### Training a MLP with MSE"
      ]
    },
    {
      "cell_type": "code",
      "metadata": {
        "id": "2_uYI-jeXzym",
        "colab_type": "code",
        "colab": {}
      },
      "source": [
        "mlp = MLP(hidden_layers=[100]) # standard MLP\n",
        "mlp_optimizer = torch.optim.Adam(params=mlp.parameters(), lr=learning_rate)\n",
        "mlp_criterion = nn.MSELoss()"
      ],
      "execution_count": 0,
      "outputs": []
    },
    {
      "cell_type": "code",
      "metadata": {
        "id": "OFmykytdXzyn",
        "colab_type": "code",
        "outputId": "8168857b-8790-464e-e5a6-d657dc33edcb",
        "colab": {
          "base_uri": "https://localhost:8080/",
          "height": 51
        }
      },
      "source": [
        "for epoch in range(epochs):\n",
        "    mlp_optimizer.zero_grad()\n",
        "    mlp_loss = mlp_criterion(yy, mlp(xx))\n",
        "    if epoch == 0:\n",
        "        print('initial loss: ',mlp_loss.item())\n",
        "    mlp_loss.backward()\n",
        "    mlp_optimizer.step()\n",
        "print('final loss: ',mlp_loss.item())"
      ],
      "execution_count": 0,
      "outputs": [
        {
          "output_type": "stream",
          "text": [
            "initial loss:  967.5051879882812\n",
            "final loss:  39.660888671875\n"
          ],
          "name": "stdout"
        }
      ]
    },
    {
      "cell_type": "markdown",
      "metadata": {
        "id": "O-AcuP_jXzyp",
        "colab_type": "text"
      },
      "source": [
        "#### Plot: Output of the MLP"
      ]
    },
    {
      "cell_type": "code",
      "metadata": {
        "id": "D8pevsQCXzyp",
        "colab_type": "code",
        "outputId": "88c7aa70-be57-4728-e4c5-eb973b34cef2",
        "colab": {
          "base_uri": "https://localhost:8080/",
          "height": 296
        }
      },
      "source": [
        "plt.plot(xx.numpy(),yy.numpy(),'or', label='data points')\n",
        "plt.plot(x, y, 'b', label='ground truth $y=x^3$')\n",
        "plt.plot(x, mlp(torch.tensor(x).float()).detach().numpy(), label='MLP (MSE)', color='grey')\n",
        "plt.xlabel('x')\n",
        "plt.ylabel('y')\n",
        "plt.legend()"
      ],
      "execution_count": 0,
      "outputs": [
        {
          "output_type": "execute_result",
          "data": {
            "text/plain": [
              "<matplotlib.legend.Legend at 0x7f696beebc50>"
            ]
          },
          "metadata": {
            "tags": []
          },
          "execution_count": 34
        },
        {
          "output_type": "display_data",
          "data": {
            "image/png": "[encoded data removed]",
            "text/plain": [
              "<Figure size 432x288 with 1 Axes>"
            ]
          },
          "metadata": {
            "tags": [],
            "needs_background": "light"
          }
        }
      ]
    },
    {
      "cell_type": "markdown",
      "metadata": {
        "id": "lpi_kotVXzyr",
        "colab_type": "text"
      },
      "source": [
        "### Training an ensemble of 5 MLPs with MSE"
      ]
    },
    {
      "cell_type": "code",
      "metadata": {
        "id": "fC2jrWqdXzyr",
        "colab_type": "code",
        "outputId": "1e5193e0-ffc2-448c-edd1-d07df60dc3e0",
        "colab": {
          "base_uri": "https://localhost:8080/",
          "height": 272
        }
      },
      "source": [
        "mlps = []\n",
        "mlp_optimizers = []\n",
        "mlp_criterion = nn.MSELoss()\n",
        "M = 5\n",
        "for _ in range(M):\n",
        "    net = MLP(hidden_layers=[100]) # standard MLP\n",
        "    mlps.append(net)\n",
        "    mlp_optimizers.append(torch.optim.Adam(params=net.parameters(), lr=learning_rate))\n",
        "# train \n",
        "for i, net in enumerate(mlps):\n",
        "    print('Training network ',i+1)\n",
        "    for epoch in range(epochs):\n",
        "        mlp_optimizers[i].zero_grad()\n",
        "        mlp_loss = mlp_criterion(yy, net(xx))\n",
        "        if epoch == 0:\n",
        "            print('initial loss: ',mlp_loss.item())\n",
        "        mlp_loss.backward()\n",
        "        mlp_optimizers[i].step()\n",
        "    print('final loss: ',mlp_loss.item())"
      ],
      "execution_count": 0,
      "outputs": [
        {
          "output_type": "stream",
          "text": [
            "Training network  1\n",
            "initial loss:  965.3161010742188\n",
            "final loss:  36.14128875732422\n",
            "Training network  2\n",
            "initial loss:  994.7483520507812\n",
            "final loss:  32.09497833251953\n",
            "Training network  3\n",
            "initial loss:  923.8093872070312\n",
            "final loss:  34.66689682006836\n",
            "Training network  4\n",
            "initial loss:  922.5857543945312\n",
            "final loss:  35.2896842956543\n",
            "Training network  5\n",
            "initial loss:  1007.2322387695312\n",
            "final loss:  37.78142166137695\n"
          ],
          "name": "stdout"
        }
      ]
    },
    {
      "cell_type": "code",
      "metadata": {
        "id": "Qhz9f9igXzys",
        "colab_type": "code",
        "outputId": "07719506-7da3-4981-eb1b-516cd57766ce",
        "colab": {
          "base_uri": "https://localhost:8080/",
          "height": 312
        }
      },
      "source": [
        "plt.plot(xx.numpy(),yy.numpy(),'or', label='data points')\n",
        "plt.plot(x, y, 'b', label='ground truth $y=x^3$')\n",
        "ys = []\n",
        "for net in mlps:\n",
        "    ys.append(net(torch.tensor(x).float()).detach().numpy())\n",
        "ys = np.array(ys)\n",
        "mean = np.mean(ys, axis=0)\n",
        "std = np.std(ys, axis=0)\n",
        "plt.plot(x, mean, label='MLP (MSE)', color='grey')\n",
        "plt.fill_between(x.reshape(100,), (mean-std).reshape(100,), (mean+std).reshape(100,),color='grey',alpha=0.3)\n",
        "plt.xlabel('x')\n",
        "plt.ylabel('y')\n",
        "plt.title('Figure 1 (left) from the paper')\n",
        "plt.legend()"
      ],
      "execution_count": 0,
      "outputs": [
        {
          "output_type": "execute_result",
          "data": {
            "text/plain": [
              "<matplotlib.legend.Legend at 0x7f696bede240>"
            ]
          },
          "metadata": {
            "tags": []
          },
          "execution_count": 36
        },
        {
          "output_type": "display_data",
          "data": {
            "image/png": "[encoded data removed]",
            "text/plain": [
              "<Figure size 432x288 with 1 Axes>"
            ]
          },
          "metadata": {
            "tags": [],
            "needs_background": "light"
          }
        }
      ]
    },
    {
      "cell_type": "markdown",
      "metadata": {
        "id": "u3bg16wtXzyu",
        "colab_type": "text"
      },
      "source": [
        "Subfigure from the paper:<div style=\"width: 400px;\">![fig1_1.png](attachment:fig1_1.png)</div>"
      ]
    },
    {
      "cell_type": "markdown",
      "metadata": {
        "id": "cryU3rJEXzyu",
        "colab_type": "text"
      },
      "source": [
        "### Training a gaussian MLP with NLL"
      ]
    },
    {
      "cell_type": "code",
      "metadata": {
        "id": "rRB_0TkuXzyv",
        "colab_type": "code",
        "colab": {}
      },
      "source": [
        "gmlp = GaussianMLP(hidden_layers=[100]) \n",
        "gmlp_optimizer = torch.optim.Adam(params=gmlp.parameters(), lr=learning_rate)"
      ],
      "execution_count": 0,
      "outputs": []
    },
    {
      "cell_type": "code",
      "metadata": {
        "scrolled": false,
        "id": "CobdhElxXzyw",
        "colab_type": "code",
        "outputId": "c8dc5b7f-b155-4772-b8d8-4984ef8046ef",
        "colab": {
          "base_uri": "https://localhost:8080/",
          "height": 51
        }
      },
      "source": [
        "for epoch in range(epochs*3):\n",
        "    gmlp_optimizer.zero_grad()\n",
        "    mean, var = gmlp(xx)\n",
        "    gmlp_loss = NLLloss(yy, mean, var) #NLL loss\n",
        "    #gmlp_loss = (yy - mean).pow(2).mean() # MSE loss for testing\n",
        "    if epoch == 0:\n",
        "        print('initial loss: ',gmlp_loss.item())\n",
        "    gmlp_loss.backward()\n",
        "    gmlp_optimizer.step()\n",
        "print('final loss: ',gmlp_loss.item())"
      ],
      "execution_count": 0,
      "outputs": [
        {
          "output_type": "stream",
          "text": [
            "initial loss:  24337.533203125\n",
            "final loss:  114.27645874023438\n"
          ],
          "name": "stdout"
        }
      ]
    },
    {
      "cell_type": "markdown",
      "metadata": {
        "id": "ZzCW-FLHXzyx",
        "colab_type": "text"
      },
      "source": [
        "#### Plot: Output of the gaussian MLP"
      ]
    },
    {
      "cell_type": "code",
      "metadata": {
        "id": "00VPDMSpXzyy",
        "colab_type": "code",
        "outputId": "fd878679-d173-460a-aef1-a81eac234fbe",
        "colab": {
          "base_uri": "https://localhost:8080/",
          "height": 312
        }
      },
      "source": [
        "plt.plot(xx.numpy(),yy.numpy(),'or', label='data points')\n",
        "plt.plot(x, y, 'b', label='ground truth $y=x^3$')\n",
        "mean, var = gmlp(torch.tensor(x).float())\n",
        "mean = mean.detach().numpy()\n",
        "var = var.detach().numpy()\n",
        "std = np.sqrt(var)\n",
        "plt.plot(x, mean, 'grey', label='GMLP (NLL)')\n",
        "plt.fill_between(x.reshape(100,), (mean-std).reshape(100,), (mean+std).reshape(100,),color='grey',alpha=0.3)\n",
        "plt.xlabel('x')\n",
        "plt.ylabel('y')\n",
        "plt.title('Figure 1 (second from left) from the paper')\n",
        "plt.legend()"
      ],
      "execution_count": 0,
      "outputs": [
        {
          "output_type": "execute_result",
          "data": {
            "text/plain": [
              "<matplotlib.legend.Legend at 0x7f696be4e710>"
            ]
          },
          "metadata": {
            "tags": []
          },
          "execution_count": 39
        },
        {
          "output_type": "display_data",
          "data": {
            "image/png": "[encoded data removed]",
            "text/plain": [
              "<Figure size 432x288 with 1 Axes>"
            ]
          },
          "metadata": {
            "tags": [],
            "needs_background": "light"
          }
        }
      ]
    },
    {
      "cell_type": "markdown",
      "metadata": {
        "id": "GGOKIL7sXzyz",
        "colab_type": "text"
      },
      "source": [
        "Subfigure from the paper: <div style=\"width: 400px;\">![fig1_2.png](attachment:fig1_2.png)</div>"
      ]
    },
    {
      "cell_type": "markdown",
      "metadata": {
        "id": "1I-Pow5JXzyz",
        "colab_type": "text"
      },
      "source": [
        "### Training a gaussian mixture MLP (deep ensemble) with NLL"
      ]
    },
    {
      "cell_type": "code",
      "metadata": {
        "id": "lhiIaYfKXzy0",
        "colab_type": "code",
        "colab": {}
      },
      "source": [
        "def train_model_step(model, optimizer, x, y):\n",
        "    \"\"\" Training an individual gaussian MLP of the deep ensemble. \"\"\"\n",
        "    optimizer.zero_grad()\n",
        "    mean, var = model(x)\n",
        "    loss = NLLloss(y, mean, var)\n",
        "    loss.backward()\n",
        "    optimizer.step()\n",
        "    return loss.item()"
      ],
      "execution_count": 0,
      "outputs": []
    },
    {
      "cell_type": "code",
      "metadata": {
        "id": "_fMbPL6mXzy1",
        "colab_type": "code",
        "colab": {}
      },
      "source": [
        "def train_gmm_step(gmm, optimizers, x, y):\n",
        "    \"\"\" Training the whole ensemble. \"\"\"\n",
        "    losses = []\n",
        "    for i in range(gmm.num_models):\n",
        "        model = getattr(gmm, 'model_' + str(i))\n",
        "        loss = train_model_step(model, optimizers[i], x, y)\n",
        "        losses.append(loss)\n",
        "    return losses"
      ],
      "execution_count": 0,
      "outputs": []
    },
    {
      "cell_type": "code",
      "metadata": {
        "id": "-0YSzrW6Xzy3",
        "colab_type": "code",
        "colab": {}
      },
      "source": [
        "gmm = GaussianMixtureMLP(num_models=5, hidden_layers=[100])\n",
        "gmm_optimizers = []\n",
        "for i in range(gmm.num_models):\n",
        "    model = getattr(gmm, 'model_' + str(i))\n",
        "    gmm_optimizers.append(torch.optim.Adam(params=model.parameters(), lr=learning_rate, weight_decay=4e-5))"
      ],
      "execution_count": 0,
      "outputs": []
    },
    {
      "cell_type": "code",
      "metadata": {
        "id": "IN22xMD0Xzy4",
        "colab_type": "code",
        "outputId": "59f5ca78-251e-4a30-db9b-b2a249144c99",
        "colab": {
          "base_uri": "https://localhost:8080/",
          "height": 51
        }
      },
      "source": [
        "for epoch in range(epochs):\n",
        "    losses = train_gmm_step(gmm, gmm_optimizers, xx, yy)\n",
        "    if epoch == 0:\n",
        "        print('inital losses: ', losses)\n",
        "print('final losses: ', losses)"
      ],
      "execution_count": 0,
      "outputs": [
        {
          "output_type": "stream",
          "text": [
            "inital losses:  [25971.314453125, 40593.046875, 24435.826171875, 16405.6484375, 39820.9375]\n",
            "final losses:  [114.9049301147461, 110.51687622070312, 115.03089904785156, 120.15620422363281, 115.42293548583984]\n"
          ],
          "name": "stdout"
        }
      ]
    },
    {
      "cell_type": "markdown",
      "metadata": {
        "id": "8q9gYoNvXzy5",
        "colab_type": "text"
      },
      "source": [
        "#### Plot: Output of the ensemble model's individual sub models"
      ]
    },
    {
      "cell_type": "code",
      "metadata": {
        "id": "7BbTh36jXzy6",
        "colab_type": "code",
        "outputId": "b6af5dd3-f46c-469b-f6b7-a98d32b5e088",
        "colab": {
          "base_uri": "https://localhost:8080/",
          "height": 312
        }
      },
      "source": [
        "means = []\n",
        "variances = []\n",
        "for i in range(gmm.num_models):\n",
        "    model = getattr(gmm, 'model_'+str(i))\n",
        "    mean, var = model(torch.tensor(x).float())\n",
        "    mean = mean.detach().numpy()\n",
        "    var = var.detach().numpy()\n",
        "    means.append(mean)\n",
        "    variances.append(var)\n",
        "    std = np.sqrt(var)\n",
        "    plt.plot(x, mean, label='GMM (NLL) '+str(i+1),alpha=0.5)\n",
        "    plt.fill_between(x.reshape(100,), (mean-std).reshape(100,), (mean+std).reshape(100,),alpha=0.1)\n",
        "plt.plot(x, y, label='ground truth $y=x^3$', color='b')\n",
        "plt.plot(xx.numpy(),yy.numpy(),'or', label='data points')\n",
        "plt.title('Outputs of the network in the ensemble')\n",
        "plt.xlabel('x')\n",
        "plt.ylabel('y')"
      ],
      "execution_count": 0,
      "outputs": [
        {
          "output_type": "execute_result",
          "data": {
            "text/plain": [
              "Text(0, 0.5, 'y')"
            ]
          },
          "metadata": {
            "tags": []
          },
          "execution_count": 44
        },
        {
          "output_type": "display_data",
          "data": {
            "image/png": "[encoded data removed]",
            "text/plain": [
              "<Figure size 432x288 with 1 Axes>"
            ]
          },
          "metadata": {
            "tags": [],
            "needs_background": "light"
          }
        }
      ]
    },
    {
      "cell_type": "markdown",
      "metadata": {
        "id": "bcVngtB_Xzy7",
        "colab_type": "text"
      },
      "source": [
        "#### Plot: Output of the ensemble model"
      ]
    },
    {
      "cell_type": "code",
      "metadata": {
        "id": "LJK2p9E_Xzy7",
        "colab_type": "code",
        "outputId": "77905c38-6a15-4d40-ec08-beb2b9edb286",
        "colab": {
          "base_uri": "https://localhost:8080/",
          "height": 312
        }
      },
      "source": [
        "mean, var = gmm(torch.tensor(x).float())\n",
        "mean = mean.detach().numpy()\n",
        "var = var.detach().numpy()\n",
        "std = np.sqrt(var)\n",
        "#plt.fill_between(x.reshape(100,), (mean-var).reshape(100,), (mean+var).reshape(100,),color='red',alpha=0.1, label='$\\sigma^2$')\n",
        "plt.fill_between(x.reshape(100,), (mean-std).reshape(100,), (mean+std).reshape(100,), color='grey',alpha=0.3, label='$\\sigma$')\n",
        "plt.plot(x, mean, label='GMM mean (NLL)',color='grey')\n",
        "plt.plot(x, y, 'b', label='ground truth $y=x^3$')\n",
        "plt.plot(xx.numpy(),yy.numpy(),'or', label='data points')\n",
        "plt.xlabel('x')\n",
        "plt.ylabel('y')\n",
        "plt.title('Figure 1 (right) from the paper')\n",
        "plt.legend()"
      ],
      "execution_count": 0,
      "outputs": [
        {
          "output_type": "execute_result",
          "data": {
            "text/plain": [
              "<matplotlib.legend.Legend at 0x7f696bd35c18>"
            ]
          },
          "metadata": {
            "tags": []
          },
          "execution_count": 45
        },
        {
          "output_type": "display_data",
          "data": {
            "image/png": "[encoded data removed]",
            "text/plain": [
              "<Figure size 432x288 with 1 Axes>"
            ]
          },
          "metadata": {
            "tags": [],
            "needs_background": "light"
          }
        }
      ]
    },
    {
      "cell_type": "markdown",
      "metadata": {
        "id": "oB_wyULUXzy8",
        "colab_type": "text"
      },
      "source": [
        "Subfigure form the paper:<div style=\"width: 400px;\">![fig1_4.png](attachment:fig1_4.png)<div/>"
      ]
    },
    {
      "cell_type": "markdown",
      "metadata": {
        "id": "8UpvrAchXzy9",
        "colab_type": "text"
      },
      "source": [
        "# Questions\n",
        "\n",
        "1) Is something wrong with the training procedure in terms of batchsize, epochs? In the paper, it was mentioned, that a batchsize of 100 was used, but the toy example has only 20 samples. Training on these 20 samples for 40 epochs leads to underfitting for the NLL loss.\n",
        "\n",
        "2) Is something wrong with the NLL loss function?\n",
        "\n",
        "3) Is something wrong with the standard initialization in PyTorch? From Figure 1 (right) in the paper, I argue that each network of the ensemble has a more varying output outside the interval [-4, 4], than it is the case in my reproduction. I can't reproduce the predictive uncertainty as seen in the figure above."
      ]
    }
  ]
}